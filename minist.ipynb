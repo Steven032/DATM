{
  "cells": [
    {
      "cell_type": "code",
      "execution_count": null,
      "metadata": {
        "colab": {
          "base_uri": "https://localhost:8080/"
        },
        "id": "ksZvz12NqGZf",
        "outputId": "4c054381-7780-437a-8336-21b2f810b979"
      },
      "outputs": [
        {
          "name": "stdout",
          "output_type": "stream",
          "text": [
            "Mounted at /content/drive/\n",
            " CKGAT.ipynb\t   'Seller Group Summary 383b6fc4f9c147ebb11bd83e65393312 (1).pdf'\n",
            "'Colab Notebooks'  'Seller Group Summary 383b6fc4f9c147ebb11bd83e65393312.pdf'\n",
            " dataset\t    spert\n",
            " doc\t\t    Untitled0.ipynb\n",
            " picture\t    video\n",
            " project\n"
          ]
        }
      ],
      "source": [
        "#实现对网盘的同步\n",
        "from google.colab import drive\n",
        "drive.mount('/content/drive/',force_remount=True)\n",
        "\n",
        "!ls '/content/drive/MyDrive/'"
      ]
    },
    {
      "cell_type": "code",
      "execution_count": null,
      "metadata": {
        "colab": {
          "base_uri": "https://localhost:8080/"
        },
        "id": "6NsnUNZ3qhs7",
        "outputId": "d23736d6-f570-4486-9384-4fd7fd0da741"
      },
      "outputs": [
        {
          "name": "stdout",
          "output_type": "stream",
          "text": [
            "/content\n"
          ]
        }
      ],
      "source": [
        "!pwd"
      ]
    },
    {
      "cell_type": "code",
      "execution_count": null,
      "metadata": {
        "colab": {
          "base_uri": "https://localhost:8080/"
        },
        "id": "q6j2Zsgkqdjo",
        "outputId": "e4cbad98-a7f5-4ad3-88ba-464b10d96c55"
      },
      "outputs": [
        {
          "name": "stdout",
          "output_type": "stream",
          "text": [
            "/content/drive/MyDrive/project\n"
          ]
        }
      ],
      "source": [
        "%cd /content/drive/MyDrive/project"
      ]
    },
    {
      "cell_type": "code",
      "execution_count": null,
      "metadata": {
        "colab": {
          "base_uri": "https://localhost:8080/"
        },
        "id": "TGJZwq84p7K_",
        "outputId": "66ba39ac-60e8-4494-840a-6532e1d1b266"
      },
      "outputs": [
        {
          "name": "stdout",
          "output_type": "stream",
          "text": [
            "Cloning into 'DATM'...\n",
            "remote: Enumerating objects: 363, done.\u001b[K\n",
            "remote: Counting objects: 100% (66/66), done.\u001b[K\n",
            "remote: Compressing objects: 100% (63/63), done.\u001b[K\n",
            "remote: Total 363 (delta 30), reused 3 (delta 3), pack-reused 297\u001b[K\n",
            "Receiving objects: 100% (363/363), 14.56 MiB | 10.87 MiB/s, done.\n",
            "Resolving deltas: 100% (142/142), done.\n"
          ]
        }
      ],
      "source": [
        "!git clone https://github.com/GzyAftermath/DATM.git"
      ]
    },
    {
      "cell_type": "code",
      "execution_count": null,
      "metadata": {
        "colab": {
          "base_uri": "https://localhost:8080/"
        },
        "id": "7RN4FH0Lqz7B",
        "outputId": "38ee7484-a018-4eeb-f39b-824b4d4d60de"
      },
      "outputs": [
        {
          "name": "stdout",
          "output_type": "stream",
          "text": [
            "/content/drive/MyDrive/project/DATM\n"
          ]
        }
      ],
      "source": [
        "%cd DATM"
      ]
    },
    {
      "cell_type": "code",
      "execution_count": null,
      "metadata": {
        "colab": {
          "base_uri": "https://localhost:8080/"
        },
        "id": "bTx0-dBHqvQ6",
        "outputId": "d93f678a-2eb2-44e3-86fb-c7d562688f0a"
      },
      "outputs": [
        {
          "name": "stdout",
          "output_type": "stream",
          "text": [
            "/bin/bash: line 1: conda: command not found\n",
            "/bin/bash: line 1: conda: command not found\n"
          ]
        }
      ],
      "source": [
        "!conda env create -f environment.yaml\n",
        "!conda activate distillation"
      ]
    },
    {
      "cell_type": "code",
      "execution_count": null,
      "metadata": {
        "id": "bYRXPBbtqzfy"
      },
      "outputs": [],
      "source": [
        "%%capture\n",
        "!pip install cycler==0.11.0\n",
        "!pip install efficientnet-pytorch==0.7.1\n",
        "!pip install filelock==3.9.0\n",
        "!pip install fonttools==4.34.4\n",
        "!pip install huggingface-hub==0.11.1\n",
        "!pip install kiwisolver==1.4.4\n",
        "!pip install matplotlib==3.5.2\n",
        "!pip install prettytable==3.6.0\n",
        "!pip install timm==0.6.12"
      ]
    },
    {
      "cell_type": "code",
      "execution_count": null,
      "metadata": {
        "id": "EMvJ7orPsOSa"
      },
      "outputs": [],
      "source": [
        "%%capture\n",
        "!pip install kornia"
      ]
    },
    {
      "cell_type": "code",
      "execution_count": null,
      "metadata": {
        "colab": {
          "background_save": true,
          "base_uri": "https://localhost:8080/"
        },
        "id": "YbZpD6vPrwXA",
        "outputId": "1cfe9e71-d8dd-45fb-bbb2-f716360002e8"
      },
      "outputs": [
        {
          "name": "stdout",
          "output_type": "stream",
          "text": [
            "[Errno 2] No such file or directory: 'buffer'\n",
            "/content/drive/MyDrive/project/DATM/buffer\n",
            "Train ZCA\n",
            "100% 60000/60000 [00:09<00:00, 6077.84it/s]\n",
            "Test ZCA\n",
            "100% 10000/10000 [00:01<00:00, 7897.53it/s]\n",
            "Hyper-parameters: \n",
            " {'dataset': 'MNIST', 'subset': 'imagenette', 'model': 'ConvNet', 'num_experts': 100, 'lr_teacher': 0.01, 'batch_train': 256, 'batch_real': 256, 'dsa': True, 'dsa_strategy': 'color_crop_cutout_flip_scale_rotate', 'data_path': '../dataset/', 'buffer_path': '../buffer_storage/', 'train_epochs': 100, 'zca': True, 'decay': False, 'mom': 0.0, 'l2': 0, 'save_interval': 10, 'rho_max': 0.01, 'rho_min': 0.01, 'alpha': 0.3, 'adaptive': True, 'device': 'cpu', 'dsa_param': <utils.utils_gsam.ParamDiffAug object at 0x7b3d3ca09450>, 'zca_trans': ZCAWhitening()}\n",
            "BUILDING DATASET\n",
            "  0% 0/60000 [00:00<?, ?it/s]/content/drive/MyDrive/project/DATM/buffer/buffer_FTD.py:44: UserWarning: To copy construct from a tensor, it is recommended to use sourceTensor.clone().detach() or sourceTensor.clone().detach().requires_grad_(True), rather than torch.tensor(sourceTensor).\n",
            "  labels_all.append(class_map[torch.tensor(sample[1]).item()])\n",
            "100% 60000/60000 [00:01<00:00, 55012.02it/s]\n",
            "60000it [00:00, 2359200.16it/s]\n",
            "class c = 0: 5923 real images\n",
            "class c = 1: 6742 real images\n",
            "class c = 2: 5958 real images\n",
            "class c = 3: 6131 real images\n",
            "class c = 4: 5842 real images\n",
            "class c = 5: 5421 real images\n",
            "class c = 6: 5918 real images\n",
            "class c = 7: 6265 real images\n",
            "class c = 8: 5851 real images\n",
            "class c = 9: 5949 real images\n",
            "real images channel 0, mean = 0.0000, std = 0.3602\n",
            "DC augmentation parameters: \n",
            " {'crop': 4, 'scale': 0.2, 'rotate': 45, 'noise': 0.001, 'strategy': 'crop_scale_rotate'}\n",
            "/usr/local/lib/python3.10/dist-packages/torch/functional.py:504: UserWarning: torch.meshgrid: in an upcoming release, it will be required to pass the indexing argument. (Triggered internally at ../aten/src/ATen/native/TensorShape.cpp:3526.)\n",
            "  return _VF.meshgrid(tensors, **kwargs)  # type: ignore[attr-defined]\n",
            "Itr: 0\tEpoch: 0\tTrain Acc: 0.7768166666666667\tTest Acc: 0.9507\n",
            "Itr: 0\tEpoch: 1\tTrain Acc: 0.8705833333333334\tTest Acc: 0.9631\n",
            "Itr: 0\tEpoch: 2\tTrain Acc: 0.9091166666666667\tTest Acc: 0.9747\n",
            "Itr: 0\tEpoch: 3\tTrain Acc: 0.9173833333333333\tTest Acc: 0.9753\n",
            "Itr: 0\tEpoch: 4\tTrain Acc: 0.9314833333333333\tTest Acc: 0.9812\n",
            "Itr: 0\tEpoch: 5\tTrain Acc: 0.9327666666666666\tTest Acc: 0.979\n",
            "Itr: 0\tEpoch: 6\tTrain Acc: 0.9434333333333333\tTest Acc: 0.9847\n"
          ]
        }
      ],
      "source": [
        "%cd buffer\n",
        "!python buffer_FTD.py --dataset=MNIST --model=ConvNet --train_epochs=100 --num_experts=100 --zca --buffer_path=../buffer_storage/ --data_path=../dataset/ --rho_max=0.01 --rho_min=0.01 --alpha=0.3 --lr_teacher=0.01 --mom=0. --batch_train=256"
      ]
    },
    {
      "cell_type": "code",
      "execution_count": null,
      "metadata": {
        "id": "LXtROSnVXcHd"
      },
      "outputs": [],
      "source": [
        "%cd distill\n",
        "!python DATM.py --cfg ../configs/xxxx.yaml"
      ]
    },
    {
      "cell_type": "code",
      "execution_count": null,
      "metadata": {
        "id": "6Om_wBLjXfr1"
      },
      "outputs": [],
      "source": [
        "%cd distill\n",
        "!python evaluation.py --lr_dir=path_to_lr --data_dir=path_to_images --label_dir=path_to_labels --zca"
      ]
    }
  ],
  "metadata": {
    "colab": {
      "provenance": []
    },
    "kernelspec": {
      "display_name": "Python 3",
      "name": "python3"
    },
    "language_info": {
      "name": "python"
    }
  },
  "nbformat": 4,
  "nbformat_minor": 0
}